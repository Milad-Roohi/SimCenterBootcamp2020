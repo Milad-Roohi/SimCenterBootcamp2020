{
 "cells": [
  {
   "cell_type": "code",
   "execution_count": 1,
   "metadata": {
    "_cell_guid": "79c7e3d0-c299-4dcb-8224-4455121ee9b0",
    "_uuid": "d629ff2d2480ee46fbb7e2d37f6b5fab8052498a"
   },
   "outputs": [],
   "source": [
    "import numpy as np\n",
    "import pandas as pd\n",
    "import seaborn as sns\n",
    "from sklearn.model_selection import train_test_split"
   ]
  },
  {
   "cell_type": "markdown",
   "metadata": {},
   "source": [
    "## 1. Load data"
   ]
  },
  {
   "cell_type": "code",
   "execution_count": 2,
   "metadata": {},
   "outputs": [
    {
     "data": {
      "text/html": [
       "<div>\n",
       "<style scoped>\n",
       "    .dataframe tbody tr th:only-of-type {\n",
       "        vertical-align: middle;\n",
       "    }\n",
       "\n",
       "    .dataframe tbody tr th {\n",
       "        vertical-align: top;\n",
       "    }\n",
       "\n",
       "    .dataframe thead th {\n",
       "        text-align: right;\n",
       "    }\n",
       "</style>\n",
       "<table border=\"1\" class=\"dataframe\">\n",
       "  <thead>\n",
       "    <tr style=\"text-align: right;\">\n",
       "      <th></th>\n",
       "      <th>overall_building_condition</th>\n",
       "      <th>max_mph</th>\n",
       "      <th>age_yrs</th>\n",
       "      <th>number_of_stories</th>\n",
       "      <th>roof_shape</th>\n",
       "      <th>roof_cover</th>\n",
       "      <th>wall_cladding</th>\n",
       "      <th>structural_framing_system</th>\n",
       "    </tr>\n",
       "  </thead>\n",
       "  <tbody>\n",
       "    <tr>\n",
       "      <th>0</th>\n",
       "      <td>0</td>\n",
       "      <td>80</td>\n",
       "      <td>14.0</td>\n",
       "      <td>1.0</td>\n",
       "      <td>Complex</td>\n",
       "      <td>Tile (clay)</td>\n",
       "      <td>Stucco</td>\n",
       "      <td>Wood-frame</td>\n",
       "    </tr>\n",
       "    <tr>\n",
       "      <th>1</th>\n",
       "      <td>1</td>\n",
       "      <td>80</td>\n",
       "      <td>29.0</td>\n",
       "      <td>2.0</td>\n",
       "      <td>Gable</td>\n",
       "      <td>Tile (clay)</td>\n",
       "      <td>Stucco</td>\n",
       "      <td>Wood-frame</td>\n",
       "    </tr>\n",
       "    <tr>\n",
       "      <th>2</th>\n",
       "      <td>0</td>\n",
       "      <td>85</td>\n",
       "      <td>27.0</td>\n",
       "      <td>2.0</td>\n",
       "      <td>Complex</td>\n",
       "      <td>Tile (clay)</td>\n",
       "      <td>Stucco</td>\n",
       "      <td>Wood-frame</td>\n",
       "    </tr>\n",
       "    <tr>\n",
       "      <th>3</th>\n",
       "      <td>1</td>\n",
       "      <td>85</td>\n",
       "      <td>24.0</td>\n",
       "      <td>1.0</td>\n",
       "      <td>Hip</td>\n",
       "      <td>Asphalt shingles (laminated)</td>\n",
       "      <td>Stucco</td>\n",
       "      <td>Wood-frame</td>\n",
       "    </tr>\n",
       "    <tr>\n",
       "      <th>4</th>\n",
       "      <td>1</td>\n",
       "      <td>85</td>\n",
       "      <td>30.0</td>\n",
       "      <td>2.0</td>\n",
       "      <td>Gable</td>\n",
       "      <td>Asphalt shingles (laminated)</td>\n",
       "      <td>Wood Siding</td>\n",
       "      <td>Wood-frame</td>\n",
       "    </tr>\n",
       "  </tbody>\n",
       "</table>\n",
       "</div>"
      ],
      "text/plain": [
       "   overall_building_condition  max_mph  age_yrs  number_of_stories roof_shape  \\\n",
       "0                           0       80     14.0                1.0    Complex   \n",
       "1                           1       80     29.0                2.0      Gable   \n",
       "2                           0       85     27.0                2.0    Complex   \n",
       "3                           1       85     24.0                1.0        Hip   \n",
       "4                           1       85     30.0                2.0      Gable   \n",
       "\n",
       "                     roof_cover wall_cladding structural_framing_system  \n",
       "0                   Tile (clay)        Stucco                Wood-frame  \n",
       "1                   Tile (clay)        Stucco                Wood-frame  \n",
       "2                   Tile (clay)        Stucco                Wood-frame  \n",
       "3  Asphalt shingles (laminated)        Stucco                Wood-frame  \n",
       "4  Asphalt shingles (laminated)   Wood Siding                Wood-frame  "
      ]
     },
     "execution_count": 2,
     "metadata": {},
     "output_type": "execute_result"
    }
   ],
   "source": [
    "# Read data into a pandas dataframe\n",
    "all_data = pd.read_csv(\"Building_in_Hurricane.csv\")\n",
    "all_data.head()"
   ]
  },
  {
   "cell_type": "markdown",
   "metadata": {},
   "source": [
    "## 2. Data preprocessing\n",
    "### Prepare input and output data"
   ]
  },
  {
   "cell_type": "code",
   "execution_count": 3,
   "metadata": {},
   "outputs": [
    {
     "name": "stdout",
     "output_type": "stream",
     "text": [
      "X shape:  (926, 7)\n",
      "X:  [[80 14.0 1.0 ... 'Tile (clay)' 'Stucco' 'Wood-frame']\n",
      " [80 29.0 2.0 ... 'Tile (clay)' 'Stucco' 'Wood-frame']\n",
      " [85 27.0 2.0 ... 'Tile (clay)' 'Stucco' 'Wood-frame']\n",
      " ...\n",
      " [105 22.0 2.0 ... 'Asphalt shingles (3-tab)' 'Vinyl Siding' 'Wood-frame']\n",
      " [100 16.0 1.0 ... 'Asphalt shingles (3-tab)' 'Stucco' 'Wood-frame']\n",
      " [105 50.0 2.0 ... 'Asphalt shingles (3-tab)' 'Wood Siding' 'Wood-frame']]\n",
      "y shape:  (926,)\n",
      "Y:  0      0\n",
      "1      1\n",
      "2      0\n",
      "3      1\n",
      "4      1\n",
      "5      1\n",
      "6      0\n",
      "7      0\n",
      "8      0\n",
      "9      1\n",
      "10     1\n",
      "11     0\n",
      "12     0\n",
      "13     0\n",
      "14     1\n",
      "15     1\n",
      "16     1\n",
      "17     1\n",
      "18     0\n",
      "19     1\n",
      "20     1\n",
      "21     1\n",
      "22     1\n",
      "23     1\n",
      "24     1\n",
      "25     1\n",
      "26     1\n",
      "27     1\n",
      "28     1\n",
      "29     1\n",
      "      ..\n",
      "896    2\n",
      "897    0\n",
      "898    1\n",
      "899    2\n",
      "900    0\n",
      "901    1\n",
      "902    1\n",
      "903    1\n",
      "904    1\n",
      "905    2\n",
      "906    1\n",
      "907    0\n",
      "908    1\n",
      "909    1\n",
      "910    1\n",
      "911    2\n",
      "912    0\n",
      "913    2\n",
      "914    1\n",
      "915    0\n",
      "916    1\n",
      "917    0\n",
      "918    1\n",
      "919    1\n",
      "920    2\n",
      "921    1\n",
      "922    1\n",
      "923    1\n",
      "924    0\n",
      "925    2\n",
      "Name: overall_building_condition, Length: 926, dtype: int64\n"
     ]
    }
   ],
   "source": [
    "X = all_data.iloc[:, [1,2,3,4,5,6,7]].values\n",
    "Y = all_data.iloc[:, 0]\n",
    "\n",
    "print('X shape: ', X.shape)\n",
    "print('X: ', X)\n",
    "print('y shape: ', Y.shape)\n",
    "print('Y: ', Y)"
   ]
  },
  {
   "cell_type": "code",
   "execution_count": 4,
   "metadata": {},
   "outputs": [
    {
     "data": {
      "text/plain": [
       "1    441\n",
       "0    288\n",
       "2    197\n",
       "Name: overall_building_condition, dtype: int64"
      ]
     },
     "execution_count": 4,
     "metadata": {},
     "output_type": "execute_result"
    }
   ],
   "source": [
    "Y.value_counts()"
   ]
  },
  {
   "cell_type": "markdown",
   "metadata": {},
   "source": [
    "### Encode categorical variables"
   ]
  },
  {
   "cell_type": "code",
   "execution_count": 5,
   "metadata": {},
   "outputs": [],
   "source": [
    "# Encoding Categorical Variables\n",
    "from sklearn import preprocessing\n",
    "le = preprocessing.LabelEncoder()\n",
    "\n",
    "X[:,3] = le.fit_transform(X[:,3]) #roof_shape\n",
    "X[:,4] = le.fit_transform(X[:,4]) #roof_cover\n",
    "X[:,5] = le.fit_transform(X[:,5]) #wall_cladding\n",
    "X[:,6] = le.fit_transform(X[:,6]) #structural_framing_system\n"
   ]
  },
  {
   "cell_type": "code",
   "execution_count": 6,
   "metadata": {},
   "outputs": [
    {
     "data": {
      "text/plain": [
       "2"
      ]
     },
     "execution_count": 6,
     "metadata": {},
     "output_type": "execute_result"
    }
   ],
   "source": [
    "X[1,3]"
   ]
  },
  {
   "cell_type": "code",
   "execution_count": 7,
   "metadata": {},
   "outputs": [],
   "source": [
    "class_names = ['No Damage','Moderately Damaged','Destroyed']"
   ]
  },
  {
   "cell_type": "markdown",
   "metadata": {},
   "source": [
    "### Split into train and test sets"
   ]
  },
  {
   "cell_type": "code",
   "execution_count": 8,
   "metadata": {},
   "outputs": [
    {
     "name": "stdout",
     "output_type": "stream",
     "text": [
      "X_train shape:  (740, 7)\n",
      "Y_train shape:  (740,)\n",
      "X_test shape:  (186, 7)\n",
      "Y_test shape:  (186,)\n"
     ]
    }
   ],
   "source": [
    "from sklearn.model_selection import train_test_split\n",
    "\n",
    "X_train, X_test, Y_train, Y_test = train_test_split(X, Y, test_size = 0.2, random_state=1993)\n",
    "\n",
    "print('X_train shape: ', X_train.shape)\n",
    "print('Y_train shape: ', Y_train.shape)\n",
    "print('X_test shape: ', X_test.shape)\n",
    "print('Y_test shape: ', Y_test.shape)\n"
   ]
  },
  {
   "cell_type": "markdown",
   "metadata": {},
   "source": [
    "## 3. MODELS"
   ]
  },
  {
   "cell_type": "markdown",
   "metadata": {},
   "source": [
    "### 3.1 Logistic Regression"
   ]
  },
  {
   "cell_type": "code",
   "execution_count": 9,
   "metadata": {},
   "outputs": [
    {
     "data": {
      "text/plain": [
       "LogisticRegression(C=1.0, class_weight=None, dual=False, fit_intercept=True,\n",
       "                   intercept_scaling=1, l1_ratio=None, max_iter=2000,\n",
       "                   multi_class='auto', n_jobs=None, penalty='l2',\n",
       "                   random_state=None, solver='lbfgs', tol=0.0001, verbose=0,\n",
       "                   warm_start=False)"
      ]
     },
     "execution_count": 9,
     "metadata": {},
     "output_type": "execute_result"
    }
   ],
   "source": [
    "from sklearn.linear_model import LogisticRegression\n",
    "logisticRegressionModel = LogisticRegression(max_iter=2000)\n",
    "\n",
    "logisticRegressionModel.fit(X_train, Y_train)"
   ]
  },
  {
   "cell_type": "code",
   "execution_count": 10,
   "metadata": {},
   "outputs": [
    {
     "name": "stdout",
     "output_type": "stream",
     "text": [
      "LogisticRegression  Mean accuracy (train) is   :  0.5621621621621622\n",
      "LogisticRegression  Mean accuracy (test)  is   :  0.510752688172043\n",
      "LogisticRegression  F1 Score      (test)  is   :  0.510752688172043\n",
      "Confusion matrix, without normalization\n"
     ]
    },
    {
     "data": {
      "image/png": "[encoded data removed]",
      "text/plain": [
       "<Figure size 432x288 with 2 Axes>"
      ]
     },
     "metadata": {
      "needs_background": "light"
     },
     "output_type": "display_data"
    }
   ],
   "source": [
    "from plotUtils import plot_confusion_matrix\n",
    "from sklearn.metrics import confusion_matrix\n",
    "from sklearn.metrics import f1_score\n",
    "\n",
    "model = logisticRegressionModel\n",
    "\n",
    "print(type(model).__name__,' Mean accuracy (train) is   : ' ,model.score(X_train, Y_train))\n",
    "print(type(model).__name__,' Mean accuracy (test)  is   : ' ,model.score(X_test, Y_test))\n",
    "    \n",
    "Y_pred = model.predict(X_test)\n",
    "print(type(model).__name__,' F1 Score      (test)  is   : ' ,f1_score(Y_test.to_numpy(),Y_pred, average='micro'))\n",
    "cnf_matrix = confusion_matrix(Y_test.to_numpy(),Y_pred)\n",
    "plot_confusion_matrix(cnf_matrix, classes=class_names, title='Confusion matrix',normalize=False)\n"
   ]
  },
  {
   "cell_type": "markdown",
   "metadata": {},
   "source": [
    "### 3.2 Decision Tree "
   ]
  },
  {
   "cell_type": "code",
   "execution_count": 11,
   "metadata": {},
   "outputs": [
    {
     "data": {
      "text/plain": [
       "DecisionTreeClassifier(ccp_alpha=0.0, class_weight=None, criterion='gini',\n",
       "                       max_depth=None, max_features=None, max_leaf_nodes=None,\n",
       "                       min_impurity_decrease=0.0, min_impurity_split=None,\n",
       "                       min_samples_leaf=1, min_samples_split=2,\n",
       "                       min_weight_fraction_leaf=0.0, presort='deprecated',\n",
       "                       random_state=1993, splitter='best')"
      ]
     },
     "execution_count": 11,
     "metadata": {},
     "output_type": "execute_result"
    }
   ],
   "source": [
    "from sklearn.tree import DecisionTreeClassifier\n",
    "\n",
    "decisionTreeModel = DecisionTreeClassifier(max_depth=None, random_state = 1993)\n",
    "decisionTreeModel.fit(X_train, Y_train)"
   ]
  },
  {
   "cell_type": "code",
   "execution_count": 12,
   "metadata": {},
   "outputs": [
    {
     "name": "stdout",
     "output_type": "stream",
     "text": [
      "DecisionTreeClassifier  Mean accuracy (train) is   :  0.9702702702702702\n",
      "DecisionTreeClassifier  Mean accuracy (test)  is   :  0.5860215053763441\n",
      "DecisionTreeClassifier  F1 Score      (test)  is   :  0.5860215053763441\n",
      "Confusion matrix, without normalization\n"
     ]
    },
    {
     "data": {
      "image/png": "[encoded data removed]",
      "text/plain": [
       "<Figure size 432x288 with 2 Axes>"
      ]
     },
     "metadata": {
      "needs_background": "light"
     },
     "output_type": "display_data"
    }
   ],
   "source": [
    "from plotUtils import plot_confusion_matrix\n",
    "from sklearn.metrics import confusion_matrix\n",
    "from sklearn.metrics import f1_score\n",
    "\n",
    "model = decisionTreeModel\n",
    "\n",
    "print(type(model).__name__,' Mean accuracy (train) is   : ' ,model.score(X_train, Y_train))\n",
    "print(type(model).__name__,' Mean accuracy (test)  is   : ' ,model.score(X_test, Y_test))\n",
    "    \n",
    "Y_pred = model.predict(X_test)\n",
    "print(type(model).__name__,' F1 Score      (test)  is   : ' ,f1_score(Y_test.to_numpy(),Y_pred, average='micro'))\n",
    "cnf_matrix = confusion_matrix(Y_test.to_numpy(),Y_pred)\n",
    "plot_confusion_matrix(cnf_matrix, classes=class_names, title='Confusion matrix',normalize=False)\n"
   ]
  },
  {
   "cell_type": "markdown",
   "metadata": {},
   "source": [
    "### 3.3 Random Forest "
   ]
  },
  {
   "cell_type": "code",
   "execution_count": 13,
   "metadata": {},
   "outputs": [
    {
     "data": {
      "text/plain": [
       "RandomForestClassifier(bootstrap=True, ccp_alpha=0.0, class_weight=None,\n",
       "                       criterion='gini', max_depth=10, max_features='auto',\n",
       "                       max_leaf_nodes=None, max_samples=None,\n",
       "                       min_impurity_decrease=0.0, min_impurity_split=None,\n",
       "                       min_samples_leaf=1, min_samples_split=2,\n",
       "                       min_weight_fraction_leaf=0.0, n_estimators=50,\n",
       "                       n_jobs=None, oob_score=False, random_state=1993,\n",
       "                       verbose=0, warm_start=False)"
      ]
     },
     "execution_count": 13,
     "metadata": {},
     "output_type": "execute_result"
    }
   ],
   "source": [
    "from sklearn.ensemble import RandomForestClassifier\n",
    "\n",
    "randomForestModel = RandomForestClassifier(n_estimators=50, max_depth=10, random_state = 1993)\n",
    "randomForestModel.fit(X_train, Y_train)"
   ]
  },
  {
   "cell_type": "code",
   "execution_count": 14,
   "metadata": {},
   "outputs": [
    {
     "name": "stdout",
     "output_type": "stream",
     "text": [
      "RandomForestClassifier  Mean accuracy (train) is   :  0.9216216216216216\n",
      "RandomForestClassifier  Mean accuracy (test)  is   :  0.6451612903225806\n",
      "RandomForestClassifier  F1 Score      (test)  is   :  0.6451612903225806\n",
      "Confusion matrix, without normalization\n"
     ]
    },
    {
     "data": {
      "image/png": "[encoded data removed]",
      "text/plain": [
       "<Figure size 432x288 with 2 Axes>"
      ]
     },
     "metadata": {
      "needs_background": "light"
     },
     "output_type": "display_data"
    }
   ],
   "source": [
    "from plotUtils import plot_confusion_matrix\n",
    "from sklearn.metrics import confusion_matrix\n",
    "from sklearn.metrics import f1_score\n",
    "\n",
    "model = randomForestModel\n",
    "\n",
    "print(type(model).__name__,' Mean accuracy (train) is   : ' ,model.score(X_train, Y_train))\n",
    "print(type(model).__name__,' Mean accuracy (test)  is   : ' ,model.score(X_test, Y_test))\n",
    "    \n",
    "Y_pred = model.predict(X_test)\n",
    "print(type(model).__name__,' F1 Score      (test)  is   : ' ,f1_score(Y_test.to_numpy(),Y_pred, average='micro'))\n",
    "cnf_matrix = confusion_matrix(Y_test.to_numpy(),Y_pred)\n",
    "plot_confusion_matrix(cnf_matrix, classes=class_names, title='Confusion matrix',normalize=False)\n"
   ]
  },
  {
   "cell_type": "markdown",
   "metadata": {},
   "source": [
    "### 3.4 K-Nearest Neighbors "
   ]
  },
  {
   "cell_type": "code",
   "execution_count": 15,
   "metadata": {},
   "outputs": [
    {
     "data": {
      "text/plain": [
       "KNeighborsClassifier(algorithm='auto', leaf_size=30, metric='minkowski',\n",
       "                     metric_params=None, n_jobs=None, n_neighbors=3, p=2,\n",
       "                     weights='uniform')"
      ]
     },
     "execution_count": 15,
     "metadata": {},
     "output_type": "execute_result"
    }
   ],
   "source": [
    "from sklearn.neighbors import KNeighborsClassifier\n",
    "\n",
    "knnModel = KNeighborsClassifier(n_neighbors = 3)\n",
    "\n",
    "knnModel.fit(X_train,Y_train)"
   ]
  },
  {
   "cell_type": "code",
   "execution_count": 16,
   "metadata": {},
   "outputs": [
    {
     "name": "stdout",
     "output_type": "stream",
     "text": [
      "KNeighborsClassifier  Mean accuracy (train) is   :  0.7702702702702703\n",
      "KNeighborsClassifier  Mean accuracy (test)  is   :  0.5913978494623656\n",
      "KNeighborsClassifier  F1 Score      (test)  is   :  0.5913978494623656\n",
      "Confusion matrix, without normalization\n"
     ]
    },
    {
     "data": {
      "image/png": "[encoded data removed]",
      "text/plain": [
       "<Figure size 432x288 with 2 Axes>"
      ]
     },
     "metadata": {
      "needs_background": "light"
     },
     "output_type": "display_data"
    }
   ],
   "source": [
    "from plotUtils import plot_confusion_matrix\n",
    "from sklearn.metrics import confusion_matrix\n",
    "from sklearn.metrics import f1_score\n",
    "\n",
    "model = knnModel\n",
    "\n",
    "print(type(model).__name__,' Mean accuracy (train) is   : ' ,model.score(X_train, Y_train))\n",
    "print(type(model).__name__,' Mean accuracy (test)  is   : ' ,model.score(X_test, Y_test))\n",
    "    \n",
    "Y_pred = model.predict(X_test)\n",
    "print(type(model).__name__,' F1 Score      (test)  is   : ' ,f1_score(Y_test.to_numpy(),Y_pred, average='micro'))\n",
    "cnf_matrix = confusion_matrix(Y_test.to_numpy(),Y_pred)\n",
    "plot_confusion_matrix(cnf_matrix, classes=class_names)"
   ]
  },
  {
   "cell_type": "markdown",
   "metadata": {},
   "source": [
    "### 3.5 Support Vector Machine\n"
   ]
  },
  {
   "cell_type": "code",
   "execution_count": 17,
   "metadata": {},
   "outputs": [
    {
     "data": {
      "text/plain": [
       "SVC(C=1.0, break_ties=False, cache_size=200, class_weight=None, coef0=0.0,\n",
       "    decision_function_shape='ovr', degree=3, gamma='scale', kernel='linear',\n",
       "    max_iter=-1, probability=False, random_state=1993, shrinking=True,\n",
       "    tol=0.001, verbose=False)"
      ]
     },
     "execution_count": 17,
     "metadata": {},
     "output_type": "execute_result"
    }
   ],
   "source": [
    "from sklearn.svm import SVC\n",
    "\n",
    "SVCModel = SVC(kernel= 'linear', random_state = 1993)\n",
    "\n",
    "SVCModel.fit(X_train,Y_train)"
   ]
  },
  {
   "cell_type": "code",
   "execution_count": 18,
   "metadata": {},
   "outputs": [
    {
     "name": "stdout",
     "output_type": "stream",
     "text": [
      "SVC  Mean accuracy (train) is   :  0.5283783783783784\n",
      "SVC  Mean accuracy (test)  is   :  0.46774193548387094\n",
      "SVC  F1 Score      (test)  is   :  0.46774193548387094\n",
      "Confusion matrix, without normalization\n"
     ]
    },
    {
     "data": {
      "image/png": "[encoded data removed]",
      "text/plain": [
       "<Figure size 432x288 with 2 Axes>"
      ]
     },
     "metadata": {
      "needs_background": "light"
     },
     "output_type": "display_data"
    }
   ],
   "source": [
    "from plotUtils import plot_confusion_matrix\n",
    "from sklearn.metrics import confusion_matrix\n",
    "from sklearn.metrics import f1_score\n",
    "\n",
    "model = SVCModel\n",
    "\n",
    "print(type(model).__name__,' Mean accuracy (train) is   : ' ,model.score(X_train, Y_train))\n",
    "print(type(model).__name__,' Mean accuracy (test)  is   : ' ,model.score(X_test, Y_test))\n",
    "    \n",
    "Y_pred = model.predict(X_test)\n",
    "print(type(model).__name__,' F1 Score      (test)  is   : ' ,f1_score(Y_test.to_numpy(),Y_pred, average='micro'))\n",
    "cnf_matrix = confusion_matrix(Y_test.to_numpy(),Y_pred)\n",
    "plot_confusion_matrix(cnf_matrix, classes=class_names)"
   ]
  },
  {
   "cell_type": "markdown",
   "metadata": {},
   "source": [
    "## 3.6 Multilayer Perceptron (Neural Network)"
   ]
  },
  {
   "cell_type": "code",
   "execution_count": 19,
   "metadata": {},
   "outputs": [
    {
     "name": "stderr",
     "output_type": "stream",
     "text": [
      "/Users/Milad/opt/anaconda3/lib/python3.7/site-packages/sklearn/neural_network/_multilayer_perceptron.py:571: ConvergenceWarning: Stochastic Optimizer: Maximum iterations (200) reached and the optimization hasn't converged yet.\n",
      "  % self.max_iter, ConvergenceWarning)\n"
     ]
    },
    {
     "data": {
      "text/plain": [
       "MLPClassifier(activation='relu', alpha=0.0001, batch_size='auto', beta_1=0.9,\n",
       "              beta_2=0.999, early_stopping=False, epsilon=1e-08,\n",
       "              hidden_layer_sizes=(6, 6, 6, 6), learning_rate='constant',\n",
       "              learning_rate_init=0.001, max_fun=15000, max_iter=200,\n",
       "              momentum=0.9, n_iter_no_change=10, nesterovs_momentum=True,\n",
       "              power_t=0.5, random_state=1993, shuffle=True, solver='adam',\n",
       "              tol=0.0001, validation_fraction=0.1, verbose=False,\n",
       "              warm_start=False)"
      ]
     },
     "execution_count": 19,
     "metadata": {},
     "output_type": "execute_result"
    }
   ],
   "source": [
    "from sklearn.neural_network import MLPClassifier\n",
    "\n",
    "MLPModel = MLPClassifier(hidden_layer_sizes=(6,6,6,6), random_state=1993)\n",
    "\n",
    "MLPModel.fit(X_train,Y_train)"
   ]
  },
  {
   "cell_type": "code",
   "execution_count": 20,
   "metadata": {},
   "outputs": [
    {
     "name": "stdout",
     "output_type": "stream",
     "text": [
      "MLPClassifier  Mean accuracy (train) is   :  0.5459459459459459\n",
      "MLPClassifier  Mean accuracy (test)  is   :  0.5161290322580645\n",
      "MLPClassifier  F1 Score      (test)  is   :  0.5161290322580645\n",
      "Confusion matrix, without normalization\n"
     ]
    },
    {
     "data": {
      "image/png": "[encoded data removed]",
      "text/plain": [
       "<Figure size 432x288 with 2 Axes>"
      ]
     },
     "metadata": {
      "needs_background": "light"
     },
     "output_type": "display_data"
    }
   ],
   "source": [
    "from plotUtils import plot_confusion_matrix\n",
    "from sklearn.metrics import confusion_matrix\n",
    "from sklearn.metrics import f1_score\n",
    "\n",
    "model = MLPModel\n",
    "\n",
    "print(type(model).__name__,' Mean accuracy (train) is   : ' ,model.score(X_train, Y_train))\n",
    "print(type(model).__name__,' Mean accuracy (test)  is   : ' ,model.score(X_test, Y_test))\n",
    "    \n",
    "Y_pred = model.predict(X_test)\n",
    "print(type(model).__name__,' F1 Score      (test)  is   : ' ,f1_score(Y_test.to_numpy(),Y_pred, average='micro'))\n",
    "cnf_matrix = confusion_matrix(Y_test.to_numpy(),Y_pred)\n",
    "plot_confusion_matrix(cnf_matrix, classes=class_names)"
   ]
  },
  {
   "cell_type": "code",
   "execution_count": null,
   "metadata": {},
   "outputs": [],
   "source": []
  }
 ],
 "metadata": {
  "kernelspec": {
   "display_name": "Python 3",
   "language": "python",
   "name": "python3"
  },
  "language_info": {
   "codemirror_mode": {
    "name": "ipython",
    "version": 3
   },
   "file_extension": ".py",
   "mimetype": "text/x-python",
   "name": "python",
   "nbconvert_exporter": "python",
   "pygments_lexer": "ipython3",
   "version": "3.7.6"
  }
 },
 "nbformat": 4,
 "nbformat_minor": 4
}
